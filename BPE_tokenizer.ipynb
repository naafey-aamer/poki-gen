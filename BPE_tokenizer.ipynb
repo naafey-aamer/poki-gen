{
 "cells": [
  {
   "cell_type": "code",
   "execution_count": null,
   "metadata": {},
   "outputs": [],
   "source": [
    "from google.colab import drive\n",
    "drive.mount('/content/drive')"
   ]
  },
  {
   "cell_type": "code",
   "execution_count": null,
   "metadata": {},
   "outputs": [],
   "source": [
    "import numpy as np\n",
    "import tensorflow as tf\n",
    "from gensim.models import Word2Vec\n",
    "import pandas as pd\n",
    "import nltk\n",
    "nltk.download('punkt')\n",
    "\n",
    "# Load the Pokemon descriptions dataset\n",
    "pokemon_descriptions = pd.read_csv('/content/drive/MyDrive/pokemon/poki_data.csv')"
   ]
  },
  {
   "cell_type": "code",
   "execution_count": null,
   "metadata": {},
   "outputs": [],
   "source": [
    "# !pip uninstall tokenizers\n",
    "# !pip install tokenizers==0.4.2 \n",
    "from tokenizers import ByteLevelBPETokenizer\n",
    "\n",
    "pokemon_names = pokemon_descriptions['name']  \n",
    "\n",
    "# Initialize a new tokenizer and train it\n",
    "tokenizer = ByteLevelBPETokenizer()\n",
    "\n",
    "# Customize training with desired parameters\n",
    "tokenizer.train_from_iterator(pokemon_names, vocab_size=100, min_frequency=2)\n",
    "\n",
    "# Save the trained tokenizer\n",
    "tokenizer.save_model(\"/content/drive/MyDrive/pokemon/\")\n"
   ]
  }
 ],
 "metadata": {
  "kernelspec": {
   "display_name": "Python 3",
   "language": "python",
   "name": "python3"
  },
  "language_info": {
   "codemirror_mode": {
    "name": "ipython",
    "version": 3
   },
   "file_extension": ".py",
   "mimetype": "text/x-python",
   "name": "python",
   "nbconvert_exporter": "python",
   "pygments_lexer": "ipython3",
   "version": "3.10.12"
  },
  "orig_nbformat": 4
 },
 "nbformat": 4,
 "nbformat_minor": 2
}
