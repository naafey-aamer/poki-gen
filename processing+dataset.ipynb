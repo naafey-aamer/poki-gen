{
 "cells": [
  {
   "cell_type": "code",
   "execution_count": null,
   "metadata": {},
   "outputs": [],
   "source": [
    "from google.colab import drive\n",
    "\n",
    "drive.mount('/content/drive')"
   ]
  },
  {
   "cell_type": "code",
   "execution_count": null,
   "metadata": {},
   "outputs": [],
   "source": [
    "import numpy as np\n",
    "import tensorflow as tf\n",
    "from gensim.models import Word2Vec\n",
    "import pandas as pd\n",
    "import nltk\n",
    "nltk.download('punkt')\n",
    "from tokenizers import ByteLevelBPETokenizer\n",
    "from transformers import AutoTokenizer\n",
    "\n",
    "# Load the Pokemon descriptions dataset\n",
    "pokemon_descriptions = pd.read_csv('/content/drive/MyDrive/pokemon/poki_data.csv')"
   ]
  },
  {
   "cell_type": "code",
   "execution_count": null,
   "metadata": {},
   "outputs": [],
   "source": [
    "# Initialize the tokenizer\n",
    "tokenizer = ByteLevelBPETokenizer(\"/content/drive/MyDrive/pokemon/vocab.json\", \"/content/drive/MyDrive/pokemon/merges.txt\")\n",
    "\n",
    "# Tokenize Pokémon names\n",
    "pokemon_descriptions['name'] = pokemon_descriptions['name'].apply(lambda x: tokenizer.encode(x))\n"
   ]
  },
  {
   "cell_type": "code",
   "execution_count": null,
   "metadata": {},
   "outputs": [],
   "source": [
    "# Initialize the tokenizer\n",
    "description_tokenizer = AutoTokenizer.from_pretrained('bert-base-uncased')\n",
    "\n",
    "# Tokenize Pokémon descriptions\n",
    "pokemon_descriptions['desc'] = pokemon_descriptions['desc'].apply(lambda x: description_tokenizer.encode(x))\n"
   ]
  },
  {
   "cell_type": "code",
   "execution_count": null,
   "metadata": {},
   "outputs": [],
   "source": [
    "import torch\n",
    "from torch.utils.data import Dataset\n",
    "\n",
    "class PokemonDataset(Dataset):\n",
    "   def __init__(self, encodings, labels):\n",
    "       self.encodings = encodings\n",
    "       self.labels = labels\n",
    "\n",
    "   def __getitem__(self, idx):\n",
    "       item = {key: torch.tensor(val[idx]) for key, val in self.encodings.items()}\n",
    "       item[\"labels\"] = torch.tensor(self.labels[idx])\n",
    "       return item\n",
    "\n",
    "   def __len__(self):\n",
    "       return len(self.labels)\n",
    "\n",
    "# Convert the DataFrame to a list of dictionaries\n",
    "inputs = pokemon_descriptions['name'].tolist()\n",
    "targets = pokemon_descriptions['desc'].tolist()\n",
    "\n",
    "# # Encode the inputs\n",
    "\n",
    "\n",
    "# Create the dataset\n",
    "dataset = PokemonDataset(inputs, targets)\n"
   ]
  },
  {
   "cell_type": "code",
   "execution_count": null,
   "metadata": {},
   "outputs": [],
   "source": [
    "import pickle\n",
    "\n",
    "# Save the dataset to a file using pickle\n",
    "file_path = '/content/drive/MyDrive/pokemon/pokemon_dataset.pkl'\n",
    "with open(file_path, 'wb') as file:\n",
    "    pickle.dump(dataset, file)\n",
    "\n",
    "print(f\"Dataset saved to {file_path}\")\n"
   ]
  }
 ],
 "metadata": {
  "kernelspec": {
   "display_name": "Python 3",
   "language": "python",
   "name": "python3"
  },
  "language_info": {
   "codemirror_mode": {
    "name": "ipython",
    "version": 3
   },
   "file_extension": ".py",
   "mimetype": "text/x-python",
   "name": "python",
   "nbconvert_exporter": "python",
   "pygments_lexer": "ipython3",
   "version": "3.10.12"
  },
  "orig_nbformat": 4
 },
 "nbformat": 4,
 "nbformat_minor": 2
}
